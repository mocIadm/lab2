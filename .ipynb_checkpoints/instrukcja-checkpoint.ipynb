{
 "cells": [
  {
   "cell_type": "markdown",
   "metadata": {},
   "source": [
    "# Prosty eksperyment\n",
    "\n",
    "Podczas dzisiejszych zajęć zrealizujemy prosty eksperyment uczenia maszyn. Rozpoczniemy od akwizycji danych, korzystając z przygotowanego wcześniej zbioru danych [`w4k2/data`](https://github.com/w4k2/data). W następnym kroku dokonamy **normalizacji** danych i **zredukujemy** liczbę cech, korzystając z algorytmu PCA. Na koniec wykorzystamy prosty algorytm klasyfikacji i zaprezentujemy jej wynik. Każdy krok przetwarzania zakończymy stworzeniem funkcji pomocniczej, która ułatwi nam pracę w przyszłości. W zasadzie to absolutnie nic trudnego.\n",
    "\n",
    "Zanim rozpoczniemy pracę, zaimportujmy wszystkie niezbędne biblioteki."
   ]
  },
  {
   "cell_type": "code",
   "execution_count": 1,
   "metadata": {},
   "outputs": [],
   "source": [
    "from sklearn import preprocessing, decomposition, neighbors, model_selection, metrics\n",
    "import numpy as np\n",
    "import pandas as pd\n",
    "pd.options.display.max_rows = 8    # Ustawiamy liczbę wyświetlanych wierszy i kolumn na osiem, aby nie zaśmiecać \n",
    "pd.options.display.max_columns = 8 # ekranu zbędnymi informacjami. Porządek i czytelność to dobra sprawa."
   ]
  },
  {
   "cell_type": "markdown",
   "metadata": {},
   "source": [
    "## Akwizycja danych\n",
    "\n",
    "Z [listy zbiorów danych](https://github.com/w4k2/data/tree/master/datasets) wybieramy jeden, który będzie podstawą naszego eksperymentu. Dobrym wyborem na początek może być zbiór [`heart`](https://github.com/w4k2/data/blob/master/datasets/heart.csv). Mieści on sobie binarny problem klasyfikacji (to jest taki, w którym mamy do czynienia jedynie z dwiema klasami. Posiada trzynaście cech i dwieście siedemdziesiąt obiektów.\n",
    "\n",
    "Bezpośrednie łączę do pliku możemy odnaleźć pod przyciskiem *Raw*.\n",
    "![](ss/raw.png)\n",
    "\n",
    "Zachowajmy je w zmiennej `data_url` i korzystając z **pandas** wczytajmy do zmiennej `data_frame` zdalnie plik csv, zauważając, że skoro nie posiada on w nagłówkach opisów cech, powinniśmy ustawić przy wczytywaniu parametr `header` na wartość `None`."
   ]
  },
  {
   "cell_type": "code",
   "execution_count": 2,
   "metadata": {},
   "outputs": [],
   "source": [
    "data_url = 'https://raw.githubusercontent.com/w4k2/data/master/datasets/heart.csv'\n",
    "data_frame = pd.read_csv(data_url, header = None)"
   ]
  },
  {
   "cell_type": "markdown",
   "metadata": {},
   "source": [
    "Możemy teraz wyświetlić zawartość wczytanej ramki danych."
   ]
  },
  {
   "cell_type": "code",
   "execution_count": 3,
   "metadata": {},
   "outputs": [
    {
     "data": {
      "text/html": [
       "<div>\n",
       "<style>\n",
       "    .dataframe thead tr:only-child th {\n",
       "        text-align: right;\n",
       "    }\n",
       "\n",
       "    .dataframe thead th {\n",
       "        text-align: left;\n",
       "    }\n",
       "\n",
       "    .dataframe tbody tr th {\n",
       "        vertical-align: top;\n",
       "    }\n",
       "</style>\n",
       "<table border=\"1\" class=\"dataframe\">\n",
       "  <thead>\n",
       "    <tr style=\"text-align: right;\">\n",
       "      <th></th>\n",
       "      <th>0</th>\n",
       "      <th>1</th>\n",
       "      <th>2</th>\n",
       "      <th>3</th>\n",
       "      <th>...</th>\n",
       "      <th>10</th>\n",
       "      <th>11</th>\n",
       "      <th>12</th>\n",
       "      <th>13</th>\n",
       "    </tr>\n",
       "  </thead>\n",
       "  <tbody>\n",
       "    <tr>\n",
       "      <th>0</th>\n",
       "      <td>70</td>\n",
       "      <td>1</td>\n",
       "      <td>4</td>\n",
       "      <td>130</td>\n",
       "      <td>...</td>\n",
       "      <td>2</td>\n",
       "      <td>3</td>\n",
       "      <td>3</td>\n",
       "      <td>1</td>\n",
       "    </tr>\n",
       "    <tr>\n",
       "      <th>1</th>\n",
       "      <td>67</td>\n",
       "      <td>0</td>\n",
       "      <td>3</td>\n",
       "      <td>115</td>\n",
       "      <td>...</td>\n",
       "      <td>2</td>\n",
       "      <td>0</td>\n",
       "      <td>7</td>\n",
       "      <td>0</td>\n",
       "    </tr>\n",
       "    <tr>\n",
       "      <th>2</th>\n",
       "      <td>57</td>\n",
       "      <td>1</td>\n",
       "      <td>2</td>\n",
       "      <td>124</td>\n",
       "      <td>...</td>\n",
       "      <td>1</td>\n",
       "      <td>0</td>\n",
       "      <td>7</td>\n",
       "      <td>1</td>\n",
       "    </tr>\n",
       "    <tr>\n",
       "      <th>3</th>\n",
       "      <td>64</td>\n",
       "      <td>1</td>\n",
       "      <td>4</td>\n",
       "      <td>128</td>\n",
       "      <td>...</td>\n",
       "      <td>2</td>\n",
       "      <td>1</td>\n",
       "      <td>7</td>\n",
       "      <td>0</td>\n",
       "    </tr>\n",
       "    <tr>\n",
       "      <th>...</th>\n",
       "      <td>...</td>\n",
       "      <td>...</td>\n",
       "      <td>...</td>\n",
       "      <td>...</td>\n",
       "      <td>...</td>\n",
       "      <td>...</td>\n",
       "      <td>...</td>\n",
       "      <td>...</td>\n",
       "      <td>...</td>\n",
       "    </tr>\n",
       "    <tr>\n",
       "      <th>266</th>\n",
       "      <td>44</td>\n",
       "      <td>1</td>\n",
       "      <td>2</td>\n",
       "      <td>120</td>\n",
       "      <td>...</td>\n",
       "      <td>1</td>\n",
       "      <td>0</td>\n",
       "      <td>7</td>\n",
       "      <td>0</td>\n",
       "    </tr>\n",
       "    <tr>\n",
       "      <th>267</th>\n",
       "      <td>56</td>\n",
       "      <td>0</td>\n",
       "      <td>2</td>\n",
       "      <td>140</td>\n",
       "      <td>...</td>\n",
       "      <td>2</td>\n",
       "      <td>0</td>\n",
       "      <td>3</td>\n",
       "      <td>0</td>\n",
       "    </tr>\n",
       "    <tr>\n",
       "      <th>268</th>\n",
       "      <td>57</td>\n",
       "      <td>1</td>\n",
       "      <td>4</td>\n",
       "      <td>140</td>\n",
       "      <td>...</td>\n",
       "      <td>2</td>\n",
       "      <td>0</td>\n",
       "      <td>6</td>\n",
       "      <td>0</td>\n",
       "    </tr>\n",
       "    <tr>\n",
       "      <th>269</th>\n",
       "      <td>67</td>\n",
       "      <td>1</td>\n",
       "      <td>4</td>\n",
       "      <td>160</td>\n",
       "      <td>...</td>\n",
       "      <td>2</td>\n",
       "      <td>3</td>\n",
       "      <td>3</td>\n",
       "      <td>1</td>\n",
       "    </tr>\n",
       "  </tbody>\n",
       "</table>\n",
       "<p>270 rows × 14 columns</p>\n",
       "</div>"
      ],
      "text/plain": [
       "     0   1   2    3  ...  10  11  12  13\n",
       "0    70   1   4  130 ...   2   3   3   1\n",
       "1    67   0   3  115 ...   2   0   7   0\n",
       "2    57   1   2  124 ...   1   0   7   1\n",
       "3    64   1   4  128 ...   2   1   7   0\n",
       "..   ..  ..  ..  ... ...  ..  ..  ..  ..\n",
       "266  44   1   2  120 ...   1   0   7   0\n",
       "267  56   0   2  140 ...   2   0   3   0\n",
       "268  57   1   4  140 ...   2   0   6   0\n",
       "269  67   1   4  160 ...   2   3   3   1\n",
       "\n",
       "[270 rows x 14 columns]"
      ]
     },
     "execution_count": 3,
     "metadata": {},
     "output_type": "execute_result"
    }
   ],
   "source": [
    "data_frame"
   ]
  },
  {
   "cell_type": "markdown",
   "metadata": {},
   "source": [
    "Podczas eksperymentów nie wykorzystujemy bezpośrednio ramek danych. Musimy wiedzieć, że zawarte w niej informacje dzielą się na dwa elementy:\n",
    "\n",
    "- zbiór obiektów **X**,\n",
    "- zbiór etykiet **y**.\n",
    "\n",
    "Oba te zbiory są zawsze równie liczne. W zbiorze obiektów mamy `n` wierszy, każdy po `d` cech (kolumn). Każda komórka określa wartość jednego z parametrów dla jednego z obiektów zbioru. W zbiorze etykiet mamy `n` wpisów, z których każdy przypisuje współadresowany z nią obiekt to jednej z możliwych klas.\n",
    "\n",
    "W kolekcji zbiorów danych `w4k2/data` przyjęto konwencję, w której etykieta jest **zawsze** ostatnim elementem w wierszu. Mając w głowie te informacje, możemy już podzielić wartości zawarte w naszej ramce danych na zbiór obiektów (`X`) i etykiet (`y`)."
   ]
  },
  {
   "cell_type": "code",
   "execution_count": 4,
   "metadata": {},
   "outputs": [],
   "source": [
    "X = data_frame.values[:,:-1]\n",
    "y = data_frame.values[:,-1].astype('int')"
   ]
  },
  {
   "cell_type": "markdown",
   "metadata": {},
   "source": [
    "Wyświetlmy nasze zbiory."
   ]
  },
  {
   "cell_type": "code",
   "execution_count": 5,
   "metadata": {},
   "outputs": [
    {
     "data": {
      "text/html": [
       "<div>\n",
       "<style>\n",
       "    .dataframe thead tr:only-child th {\n",
       "        text-align: right;\n",
       "    }\n",
       "\n",
       "    .dataframe thead th {\n",
       "        text-align: left;\n",
       "    }\n",
       "\n",
       "    .dataframe tbody tr th {\n",
       "        vertical-align: top;\n",
       "    }\n",
       "</style>\n",
       "<table border=\"1\" class=\"dataframe\">\n",
       "  <thead>\n",
       "    <tr style=\"text-align: right;\">\n",
       "      <th></th>\n",
       "      <th>0</th>\n",
       "      <th>1</th>\n",
       "      <th>2</th>\n",
       "      <th>3</th>\n",
       "      <th>...</th>\n",
       "      <th>9</th>\n",
       "      <th>10</th>\n",
       "      <th>11</th>\n",
       "      <th>12</th>\n",
       "    </tr>\n",
       "  </thead>\n",
       "  <tbody>\n",
       "    <tr>\n",
       "      <th>0</th>\n",
       "      <td>70.0</td>\n",
       "      <td>1.0</td>\n",
       "      <td>4.0</td>\n",
       "      <td>130.0</td>\n",
       "      <td>...</td>\n",
       "      <td>2.4</td>\n",
       "      <td>2.0</td>\n",
       "      <td>3.0</td>\n",
       "      <td>3.0</td>\n",
       "    </tr>\n",
       "    <tr>\n",
       "      <th>1</th>\n",
       "      <td>67.0</td>\n",
       "      <td>0.0</td>\n",
       "      <td>3.0</td>\n",
       "      <td>115.0</td>\n",
       "      <td>...</td>\n",
       "      <td>1.6</td>\n",
       "      <td>2.0</td>\n",
       "      <td>0.0</td>\n",
       "      <td>7.0</td>\n",
       "    </tr>\n",
       "    <tr>\n",
       "      <th>2</th>\n",
       "      <td>57.0</td>\n",
       "      <td>1.0</td>\n",
       "      <td>2.0</td>\n",
       "      <td>124.0</td>\n",
       "      <td>...</td>\n",
       "      <td>0.3</td>\n",
       "      <td>1.0</td>\n",
       "      <td>0.0</td>\n",
       "      <td>7.0</td>\n",
       "    </tr>\n",
       "    <tr>\n",
       "      <th>3</th>\n",
       "      <td>64.0</td>\n",
       "      <td>1.0</td>\n",
       "      <td>4.0</td>\n",
       "      <td>128.0</td>\n",
       "      <td>...</td>\n",
       "      <td>0.2</td>\n",
       "      <td>2.0</td>\n",
       "      <td>1.0</td>\n",
       "      <td>7.0</td>\n",
       "    </tr>\n",
       "    <tr>\n",
       "      <th>...</th>\n",
       "      <td>...</td>\n",
       "      <td>...</td>\n",
       "      <td>...</td>\n",
       "      <td>...</td>\n",
       "      <td>...</td>\n",
       "      <td>...</td>\n",
       "      <td>...</td>\n",
       "      <td>...</td>\n",
       "      <td>...</td>\n",
       "    </tr>\n",
       "    <tr>\n",
       "      <th>266</th>\n",
       "      <td>44.0</td>\n",
       "      <td>1.0</td>\n",
       "      <td>2.0</td>\n",
       "      <td>120.0</td>\n",
       "      <td>...</td>\n",
       "      <td>0.0</td>\n",
       "      <td>1.0</td>\n",
       "      <td>0.0</td>\n",
       "      <td>7.0</td>\n",
       "    </tr>\n",
       "    <tr>\n",
       "      <th>267</th>\n",
       "      <td>56.0</td>\n",
       "      <td>0.0</td>\n",
       "      <td>2.0</td>\n",
       "      <td>140.0</td>\n",
       "      <td>...</td>\n",
       "      <td>1.3</td>\n",
       "      <td>2.0</td>\n",
       "      <td>0.0</td>\n",
       "      <td>3.0</td>\n",
       "    </tr>\n",
       "    <tr>\n",
       "      <th>268</th>\n",
       "      <td>57.0</td>\n",
       "      <td>1.0</td>\n",
       "      <td>4.0</td>\n",
       "      <td>140.0</td>\n",
       "      <td>...</td>\n",
       "      <td>0.4</td>\n",
       "      <td>2.0</td>\n",
       "      <td>0.0</td>\n",
       "      <td>6.0</td>\n",
       "    </tr>\n",
       "    <tr>\n",
       "      <th>269</th>\n",
       "      <td>67.0</td>\n",
       "      <td>1.0</td>\n",
       "      <td>4.0</td>\n",
       "      <td>160.0</td>\n",
       "      <td>...</td>\n",
       "      <td>1.5</td>\n",
       "      <td>2.0</td>\n",
       "      <td>3.0</td>\n",
       "      <td>3.0</td>\n",
       "    </tr>\n",
       "  </tbody>\n",
       "</table>\n",
       "<p>270 rows × 13 columns</p>\n",
       "</div>"
      ],
      "text/plain": [
       "       0    1    2      3  ...    9    10   11   12\n",
       "0    70.0  1.0  4.0  130.0 ...   2.4  2.0  3.0  3.0\n",
       "1    67.0  0.0  3.0  115.0 ...   1.6  2.0  0.0  7.0\n",
       "2    57.0  1.0  2.0  124.0 ...   0.3  1.0  0.0  7.0\n",
       "3    64.0  1.0  4.0  128.0 ...   0.2  2.0  1.0  7.0\n",
       "..    ...  ...  ...    ... ...   ...  ...  ...  ...\n",
       "266  44.0  1.0  2.0  120.0 ...   0.0  1.0  0.0  7.0\n",
       "267  56.0  0.0  2.0  140.0 ...   1.3  2.0  0.0  3.0\n",
       "268  57.0  1.0  4.0  140.0 ...   0.4  2.0  0.0  6.0\n",
       "269  67.0  1.0  4.0  160.0 ...   1.5  2.0  3.0  3.0\n",
       "\n",
       "[270 rows x 13 columns]"
      ]
     },
     "execution_count": 5,
     "metadata": {},
     "output_type": "execute_result"
    }
   ],
   "source": [
    "pd.DataFrame(X)"
   ]
  },
  {
   "cell_type": "code",
   "execution_count": 6,
   "metadata": {},
   "outputs": [
    {
     "data": {
      "text/html": [
       "<div>\n",
       "<style>\n",
       "    .dataframe thead tr:only-child th {\n",
       "        text-align: right;\n",
       "    }\n",
       "\n",
       "    .dataframe thead th {\n",
       "        text-align: left;\n",
       "    }\n",
       "\n",
       "    .dataframe tbody tr th {\n",
       "        vertical-align: top;\n",
       "    }\n",
       "</style>\n",
       "<table border=\"1\" class=\"dataframe\">\n",
       "  <thead>\n",
       "    <tr style=\"text-align: right;\">\n",
       "      <th></th>\n",
       "      <th>0</th>\n",
       "    </tr>\n",
       "  </thead>\n",
       "  <tbody>\n",
       "    <tr>\n",
       "      <th>0</th>\n",
       "      <td>1</td>\n",
       "    </tr>\n",
       "    <tr>\n",
       "      <th>1</th>\n",
       "      <td>0</td>\n",
       "    </tr>\n",
       "    <tr>\n",
       "      <th>2</th>\n",
       "      <td>1</td>\n",
       "    </tr>\n",
       "    <tr>\n",
       "      <th>3</th>\n",
       "      <td>0</td>\n",
       "    </tr>\n",
       "    <tr>\n",
       "      <th>...</th>\n",
       "      <td>...</td>\n",
       "    </tr>\n",
       "    <tr>\n",
       "      <th>266</th>\n",
       "      <td>0</td>\n",
       "    </tr>\n",
       "    <tr>\n",
       "      <th>267</th>\n",
       "      <td>0</td>\n",
       "    </tr>\n",
       "    <tr>\n",
       "      <th>268</th>\n",
       "      <td>0</td>\n",
       "    </tr>\n",
       "    <tr>\n",
       "      <th>269</th>\n",
       "      <td>1</td>\n",
       "    </tr>\n",
       "  </tbody>\n",
       "</table>\n",
       "<p>270 rows × 1 columns</p>\n",
       "</div>"
      ],
      "text/plain": [
       "     0\n",
       "0    1\n",
       "1    0\n",
       "2    1\n",
       "3    0\n",
       "..  ..\n",
       "266  0\n",
       "267  0\n",
       "268  0\n",
       "269  1\n",
       "\n",
       "[270 rows x 1 columns]"
      ]
     },
     "execution_count": 6,
     "metadata": {},
     "output_type": "execute_result"
    }
   ],
   "source": [
    "pd.DataFrame(y)"
   ]
  },
  {
   "cell_type": "markdown",
   "metadata": {},
   "source": [
    "Dla wygody i aby nie powtarzać w przyszłości w kółko linia w linię tego samego kodu, przygotujmy sobie funkcję `get_dataset()` przyjmującą parametr `url`, zawierający ścieżkę do analizowanego zbioru danych. "
   ]
  },
  {
   "cell_type": "code",
   "execution_count": 7,
   "metadata": {},
   "outputs": [],
   "source": [
    "def get_dataset(ds_name):\n",
    "    data_frame = pd.read_csv('https://raw.githubusercontent.com/w4k2/data/master/datasets/%s.csv' % ds_name, \n",
    "                             header = None)\n",
    "    X = data_frame.values[:,:-1]\n",
    "    y = data_frame.values[:,-1].astype('int')\n",
    "    return (X, y)"
   ]
  },
  {
   "cell_type": "markdown",
   "metadata": {},
   "source": [
    "Z funkcji możemy korzystać w poniższy sposób. Zwróć uwagę, że po `return` pojawiają się dwie wartości w nawiasie. To tak zwane krotki, które pozwalają nam zwracać z funkcji więcej niż jedną wartość."
   ]
  },
  {
   "cell_type": "code",
   "execution_count": 8,
   "metadata": {},
   "outputs": [
    {
     "data": {
      "text/html": [
       "<div>\n",
       "<style>\n",
       "    .dataframe thead tr:only-child th {\n",
       "        text-align: right;\n",
       "    }\n",
       "\n",
       "    .dataframe thead th {\n",
       "        text-align: left;\n",
       "    }\n",
       "\n",
       "    .dataframe tbody tr th {\n",
       "        vertical-align: top;\n",
       "    }\n",
       "</style>\n",
       "<table border=\"1\" class=\"dataframe\">\n",
       "  <thead>\n",
       "    <tr style=\"text-align: right;\">\n",
       "      <th></th>\n",
       "      <th>0</th>\n",
       "      <th>1</th>\n",
       "      <th>2</th>\n",
       "      <th>3</th>\n",
       "      <th>...</th>\n",
       "      <th>9</th>\n",
       "      <th>10</th>\n",
       "      <th>11</th>\n",
       "      <th>12</th>\n",
       "    </tr>\n",
       "  </thead>\n",
       "  <tbody>\n",
       "    <tr>\n",
       "      <th>0</th>\n",
       "      <td>70.0</td>\n",
       "      <td>1.0</td>\n",
       "      <td>4.0</td>\n",
       "      <td>130.0</td>\n",
       "      <td>...</td>\n",
       "      <td>2.4</td>\n",
       "      <td>2.0</td>\n",
       "      <td>3.0</td>\n",
       "      <td>3.0</td>\n",
       "    </tr>\n",
       "    <tr>\n",
       "      <th>1</th>\n",
       "      <td>67.0</td>\n",
       "      <td>0.0</td>\n",
       "      <td>3.0</td>\n",
       "      <td>115.0</td>\n",
       "      <td>...</td>\n",
       "      <td>1.6</td>\n",
       "      <td>2.0</td>\n",
       "      <td>0.0</td>\n",
       "      <td>7.0</td>\n",
       "    </tr>\n",
       "    <tr>\n",
       "      <th>2</th>\n",
       "      <td>57.0</td>\n",
       "      <td>1.0</td>\n",
       "      <td>2.0</td>\n",
       "      <td>124.0</td>\n",
       "      <td>...</td>\n",
       "      <td>0.3</td>\n",
       "      <td>1.0</td>\n",
       "      <td>0.0</td>\n",
       "      <td>7.0</td>\n",
       "    </tr>\n",
       "    <tr>\n",
       "      <th>3</th>\n",
       "      <td>64.0</td>\n",
       "      <td>1.0</td>\n",
       "      <td>4.0</td>\n",
       "      <td>128.0</td>\n",
       "      <td>...</td>\n",
       "      <td>0.2</td>\n",
       "      <td>2.0</td>\n",
       "      <td>1.0</td>\n",
       "      <td>7.0</td>\n",
       "    </tr>\n",
       "    <tr>\n",
       "      <th>...</th>\n",
       "      <td>...</td>\n",
       "      <td>...</td>\n",
       "      <td>...</td>\n",
       "      <td>...</td>\n",
       "      <td>...</td>\n",
       "      <td>...</td>\n",
       "      <td>...</td>\n",
       "      <td>...</td>\n",
       "      <td>...</td>\n",
       "    </tr>\n",
       "    <tr>\n",
       "      <th>266</th>\n",
       "      <td>44.0</td>\n",
       "      <td>1.0</td>\n",
       "      <td>2.0</td>\n",
       "      <td>120.0</td>\n",
       "      <td>...</td>\n",
       "      <td>0.0</td>\n",
       "      <td>1.0</td>\n",
       "      <td>0.0</td>\n",
       "      <td>7.0</td>\n",
       "    </tr>\n",
       "    <tr>\n",
       "      <th>267</th>\n",
       "      <td>56.0</td>\n",
       "      <td>0.0</td>\n",
       "      <td>2.0</td>\n",
       "      <td>140.0</td>\n",
       "      <td>...</td>\n",
       "      <td>1.3</td>\n",
       "      <td>2.0</td>\n",
       "      <td>0.0</td>\n",
       "      <td>3.0</td>\n",
       "    </tr>\n",
       "    <tr>\n",
       "      <th>268</th>\n",
       "      <td>57.0</td>\n",
       "      <td>1.0</td>\n",
       "      <td>4.0</td>\n",
       "      <td>140.0</td>\n",
       "      <td>...</td>\n",
       "      <td>0.4</td>\n",
       "      <td>2.0</td>\n",
       "      <td>0.0</td>\n",
       "      <td>6.0</td>\n",
       "    </tr>\n",
       "    <tr>\n",
       "      <th>269</th>\n",
       "      <td>67.0</td>\n",
       "      <td>1.0</td>\n",
       "      <td>4.0</td>\n",
       "      <td>160.0</td>\n",
       "      <td>...</td>\n",
       "      <td>1.5</td>\n",
       "      <td>2.0</td>\n",
       "      <td>3.0</td>\n",
       "      <td>3.0</td>\n",
       "    </tr>\n",
       "  </tbody>\n",
       "</table>\n",
       "<p>270 rows × 13 columns</p>\n",
       "</div>"
      ],
      "text/plain": [
       "       0    1    2      3  ...    9    10   11   12\n",
       "0    70.0  1.0  4.0  130.0 ...   2.4  2.0  3.0  3.0\n",
       "1    67.0  0.0  3.0  115.0 ...   1.6  2.0  0.0  7.0\n",
       "2    57.0  1.0  2.0  124.0 ...   0.3  1.0  0.0  7.0\n",
       "3    64.0  1.0  4.0  128.0 ...   0.2  2.0  1.0  7.0\n",
       "..    ...  ...  ...    ... ...   ...  ...  ...  ...\n",
       "266  44.0  1.0  2.0  120.0 ...   0.0  1.0  0.0  7.0\n",
       "267  56.0  0.0  2.0  140.0 ...   1.3  2.0  0.0  3.0\n",
       "268  57.0  1.0  4.0  140.0 ...   0.4  2.0  0.0  6.0\n",
       "269  67.0  1.0  4.0  160.0 ...   1.5  2.0  3.0  3.0\n",
       "\n",
       "[270 rows x 13 columns]"
      ]
     },
     "execution_count": 8,
     "metadata": {},
     "output_type": "execute_result"
    }
   ],
   "source": [
    "X, y = get_dataset('heart')\n",
    "pd.DataFrame(X)"
   ]
  },
  {
   "cell_type": "markdown",
   "metadata": {},
   "source": [
    "## Normalizacja\n",
    "\n",
    "Po wczytaniu zbioru danych, często dokonuje się na nim preprocessingu. Jego pierwszym krokiem może być statystyczna normalizacja, najczęściej pod postacią standaryzacji.\n",
    "\n",
    "> **Standaryzacja** – rodzaj normalizacji zmiennej losowej, w wyniku której zmienna uzyskuje średnią wartość oczekiwaną zero i odchylenie standardowe jeden.\n",
    "\n",
    "Jeśli masz wynieść z tych zajęć tylko jedną informację, niech będzie nią fakt, że *wartość oczekiwaną* dawniej nazywano *nadzieją matematyczną*. Dzięki temu będziesz mieć zawsze pod ręką argument na to, że matematykom nie pozostała już nawet nadzieja.\n",
    "\n",
    "Przypiszmy więc standardowy skaler do zmiennej `scaler` i dopasujmy go do naszego zbioru obiektów."
   ]
  },
  {
   "cell_type": "code",
   "execution_count": 9,
   "metadata": {},
   "outputs": [],
   "source": [
    "scaler = preprocessing.StandardScaler()\n",
    "scaler.fit(X);"
   ]
  },
  {
   "cell_type": "markdown",
   "metadata": {},
   "source": [
    "Dopasowany do jakiegoś zbioru skaler pozwala już na transformację."
   ]
  },
  {
   "cell_type": "code",
   "execution_count": 10,
   "metadata": {},
   "outputs": [],
   "source": [
    "rescaled_X = scaler.transform(X)"
   ]
  },
  {
   "cell_type": "markdown",
   "metadata": {},
   "source": [
    "Porównajmy odchylenie standardowe cech zbioru przed i po normalizacji"
   ]
  },
  {
   "cell_type": "code",
   "execution_count": 11,
   "metadata": {},
   "outputs": [
    {
     "data": {
      "text/plain": [
       "array([ 1.,  1.,  1.,  1.,  1.,  1.,  1.,  1.,  1.,  1.,  1.,  1.,  1.])"
      ]
     },
     "execution_count": 11,
     "metadata": {},
     "output_type": "execute_result"
    }
   ],
   "source": [
    "np.std(rescaled_X, axis = 0)"
   ]
  },
  {
   "cell_type": "code",
   "execution_count": 12,
   "metadata": {},
   "outputs": [
    {
     "data": {
      "text/plain": [
       "array([  9.09218223,   0.46732757,   0.94832898,  17.82850056,\n",
       "        51.59043307,   0.35524678,   0.99604155,  23.1227775 ,\n",
       "         0.47007865,   1.14308711,   0.61325102,   0.94214681,   1.93706182])"
      ]
     },
     "execution_count": 12,
     "metadata": {},
     "output_type": "execute_result"
    }
   ],
   "source": [
    "np.std(X, axis = 0)"
   ]
  },
  {
   "cell_type": "markdown",
   "metadata": {},
   "source": [
    "Jak widać, wszystko działa jak należy. Odchylenie standardowe wynosi równe jeden dla każdej cechy. Skoro wszystko działa, przygotujmy sobie metodę `normalize()` przyjmującą na wejściu zbiór do dopasowania i normalizacji."
   ]
  },
  {
   "cell_type": "code",
   "execution_count": 13,
   "metadata": {},
   "outputs": [],
   "source": [
    "def normalize(X):\n",
    "    scaler = preprocessing.StandardScaler()\n",
    "    scaler.fit(X)\n",
    "    return scaler.transform(X)"
   ]
  },
  {
   "cell_type": "code",
   "execution_count": 14,
   "metadata": {},
   "outputs": [
    {
     "data": {
      "text/plain": [
       "array([ 1.,  1.,  1.,  1.,  1.,  1.,  1.,  1.,  1.,  1.,  1.,  1.,  1.])"
      ]
     },
     "execution_count": 14,
     "metadata": {},
     "output_type": "execute_result"
    }
   ],
   "source": [
    "rescaled_X = normalize(X)\n",
    "np.std(rescaled_X, axis = 0)"
   ]
  },
  {
   "cell_type": "markdown",
   "metadata": {},
   "source": [
    "## Redukcja cech\n",
    "\n",
    "Poza normalizacją danych, do fazy preprocessingu, szczególnie przy długich wektorach cech, które narażone są na klątwę wymiarowości, warto dodać etap redukcji cech. Jedną z podstawowych metod w tym wypadku jest ekstrakcja cech przy użyciu tzw. analizy głównych składowych (PCA).\n",
    "\n",
    "> Analiza głównych składowych (ang. principal component analysis, PCA) – jedna ze statystycznych metod analizy czynnikowej. Zbiór danych składający się z N obserwacji, z których każda obejmuje K zmiennych, można interpretować jako chmurę N punktów w przestrzeni K-wymiarowej. Celem PCA jest taki obrót układu współrzędnych, aby maksymalizować w pierwszej kolejności wariancję pierwszej współrzędnej, następnie wariancję drugiej współrzędnej, itd.. Tak przekształcone wartości współrzędnych nazywane są ładunkami wygenerowanych czynników (składowych głównych). W ten sposób konstruowana jest nowa przestrzeń obserwacji, w której najwięcej zmienności wyjaśniają początkowe czynniki.\n",
    "> [Analiza głównych składowych (Wikipedia)](https://pl.wikipedia.org/wiki/Analiza_głównych_składowych)\n",
    "\n",
    "Aby móc to zrealizować, musimy rozpocząć od zainicjalizowania dekompozytora PCA. Wśród możliwych parametrów przyjmuje on liczbę wygenerowanych wymiarów `n_components`. Załóżmy, że oczekujemy czterech wymiarów."
   ]
  },
  {
   "cell_type": "code",
   "execution_count": 15,
   "metadata": {},
   "outputs": [],
   "source": [
    "pca = decomposition.PCA(n_components = 4)"
   ]
  },
  {
   "cell_type": "markdown",
   "metadata": {},
   "source": [
    "Pusty dekompozytor należy dopasować do zbioru danych."
   ]
  },
  {
   "cell_type": "code",
   "execution_count": 16,
   "metadata": {},
   "outputs": [],
   "source": [
    "pca.fit(rescaled_X);"
   ]
  },
  {
   "cell_type": "markdown",
   "metadata": {},
   "source": [
    "Pozwoli to na wygenerowanie zredukowanego zbioru obiektów."
   ]
  },
  {
   "cell_type": "code",
   "execution_count": 17,
   "metadata": {},
   "outputs": [
    {
     "data": {
      "text/html": [
       "<div>\n",
       "<style>\n",
       "    .dataframe thead tr:only-child th {\n",
       "        text-align: right;\n",
       "    }\n",
       "\n",
       "    .dataframe thead th {\n",
       "        text-align: left;\n",
       "    }\n",
       "\n",
       "    .dataframe tbody tr th {\n",
       "        vertical-align: top;\n",
       "    }\n",
       "</style>\n",
       "<table border=\"1\" class=\"dataframe\">\n",
       "  <thead>\n",
       "    <tr style=\"text-align: right;\">\n",
       "      <th></th>\n",
       "      <th>0</th>\n",
       "      <th>1</th>\n",
       "      <th>2</th>\n",
       "      <th>3</th>\n",
       "    </tr>\n",
       "  </thead>\n",
       "  <tbody>\n",
       "    <tr>\n",
       "      <th>0</th>\n",
       "      <td>2.671284</td>\n",
       "      <td>1.573527</td>\n",
       "      <td>-1.031522</td>\n",
       "      <td>-0.487488</td>\n",
       "    </tr>\n",
       "    <tr>\n",
       "      <th>1</th>\n",
       "      <td>0.955444</td>\n",
       "      <td>3.468306</td>\n",
       "      <td>-1.830210</td>\n",
       "      <td>0.068183</td>\n",
       "    </tr>\n",
       "    <tr>\n",
       "      <th>2</th>\n",
       "      <td>-0.895053</td>\n",
       "      <td>-0.612315</td>\n",
       "      <td>0.428656</td>\n",
       "      <td>-0.670931</td>\n",
       "    </tr>\n",
       "    <tr>\n",
       "      <th>3</th>\n",
       "      <td>2.147007</td>\n",
       "      <td>-0.918253</td>\n",
       "      <td>-1.077068</td>\n",
       "      <td>-0.883479</td>\n",
       "    </tr>\n",
       "    <tr>\n",
       "      <th>...</th>\n",
       "      <td>...</td>\n",
       "      <td>...</td>\n",
       "      <td>...</td>\n",
       "      <td>...</td>\n",
       "    </tr>\n",
       "    <tr>\n",
       "      <th>266</th>\n",
       "      <td>-1.980798</td>\n",
       "      <td>-1.216195</td>\n",
       "      <td>0.675724</td>\n",
       "      <td>-0.701200</td>\n",
       "    </tr>\n",
       "    <tr>\n",
       "      <th>267</th>\n",
       "      <td>-0.650099</td>\n",
       "      <td>1.860568</td>\n",
       "      <td>0.008568</td>\n",
       "      <td>1.785328</td>\n",
       "    </tr>\n",
       "    <tr>\n",
       "      <th>268</th>\n",
       "      <td>0.035813</td>\n",
       "      <td>-1.142755</td>\n",
       "      <td>0.289554</td>\n",
       "      <td>0.182448</td>\n",
       "    </tr>\n",
       "    <tr>\n",
       "      <th>269</th>\n",
       "      <td>3.222338</td>\n",
       "      <td>1.372580</td>\n",
       "      <td>-0.755628</td>\n",
       "      <td>-0.690220</td>\n",
       "    </tr>\n",
       "  </tbody>\n",
       "</table>\n",
       "<p>270 rows × 4 columns</p>\n",
       "</div>"
      ],
      "text/plain": [
       "            0         1         2         3\n",
       "0    2.671284  1.573527 -1.031522 -0.487488\n",
       "1    0.955444  3.468306 -1.830210  0.068183\n",
       "2   -0.895053 -0.612315  0.428656 -0.670931\n",
       "3    2.147007 -0.918253 -1.077068 -0.883479\n",
       "..        ...       ...       ...       ...\n",
       "266 -1.980798 -1.216195  0.675724 -0.701200\n",
       "267 -0.650099  1.860568  0.008568  1.785328\n",
       "268  0.035813 -1.142755  0.289554  0.182448\n",
       "269  3.222338  1.372580 -0.755628 -0.690220\n",
       "\n",
       "[270 rows x 4 columns]"
      ]
     },
     "execution_count": 17,
     "metadata": {},
     "output_type": "execute_result"
    }
   ],
   "source": [
    "reduced_X = pca.transform(rescaled_X)\n",
    "pd.DataFrame(reduced_X)"
   ]
  },
  {
   "cell_type": "markdown",
   "metadata": {},
   "source": [
    "Przygotujmy metodę `reduce()` przyjmującą na wejściu zbiór do redukcji i liczbę wynikowych wymiarów. Za wartość domyślną drugiego argumentu przyjmijmy cztery."
   ]
  },
  {
   "cell_type": "code",
   "execution_count": 18,
   "metadata": {},
   "outputs": [],
   "source": [
    "def reduce(X, n_components = 4):\n",
    "    pca = decomposition.PCA(n_components = n_components)\n",
    "    pca.fit(X)\n",
    "    return pca.transform(X)"
   ]
  },
  {
   "cell_type": "code",
   "execution_count": 19,
   "metadata": {},
   "outputs": [
    {
     "data": {
      "text/html": [
       "<div>\n",
       "<style>\n",
       "    .dataframe thead tr:only-child th {\n",
       "        text-align: right;\n",
       "    }\n",
       "\n",
       "    .dataframe thead th {\n",
       "        text-align: left;\n",
       "    }\n",
       "\n",
       "    .dataframe tbody tr th {\n",
       "        vertical-align: top;\n",
       "    }\n",
       "</style>\n",
       "<table border=\"1\" class=\"dataframe\">\n",
       "  <thead>\n",
       "    <tr style=\"text-align: right;\">\n",
       "      <th></th>\n",
       "      <th>0</th>\n",
       "      <th>1</th>\n",
       "      <th>2</th>\n",
       "      <th>3</th>\n",
       "    </tr>\n",
       "  </thead>\n",
       "  <tbody>\n",
       "    <tr>\n",
       "      <th>0</th>\n",
       "      <td>2.671284</td>\n",
       "      <td>1.573527</td>\n",
       "      <td>-1.031522</td>\n",
       "      <td>-0.487488</td>\n",
       "    </tr>\n",
       "    <tr>\n",
       "      <th>1</th>\n",
       "      <td>0.955444</td>\n",
       "      <td>3.468306</td>\n",
       "      <td>-1.830210</td>\n",
       "      <td>0.068183</td>\n",
       "    </tr>\n",
       "    <tr>\n",
       "      <th>2</th>\n",
       "      <td>-0.895053</td>\n",
       "      <td>-0.612315</td>\n",
       "      <td>0.428656</td>\n",
       "      <td>-0.670931</td>\n",
       "    </tr>\n",
       "    <tr>\n",
       "      <th>3</th>\n",
       "      <td>2.147007</td>\n",
       "      <td>-0.918253</td>\n",
       "      <td>-1.077068</td>\n",
       "      <td>-0.883479</td>\n",
       "    </tr>\n",
       "    <tr>\n",
       "      <th>...</th>\n",
       "      <td>...</td>\n",
       "      <td>...</td>\n",
       "      <td>...</td>\n",
       "      <td>...</td>\n",
       "    </tr>\n",
       "    <tr>\n",
       "      <th>266</th>\n",
       "      <td>-1.980798</td>\n",
       "      <td>-1.216195</td>\n",
       "      <td>0.675724</td>\n",
       "      <td>-0.701200</td>\n",
       "    </tr>\n",
       "    <tr>\n",
       "      <th>267</th>\n",
       "      <td>-0.650099</td>\n",
       "      <td>1.860568</td>\n",
       "      <td>0.008568</td>\n",
       "      <td>1.785328</td>\n",
       "    </tr>\n",
       "    <tr>\n",
       "      <th>268</th>\n",
       "      <td>0.035813</td>\n",
       "      <td>-1.142755</td>\n",
       "      <td>0.289554</td>\n",
       "      <td>0.182448</td>\n",
       "    </tr>\n",
       "    <tr>\n",
       "      <th>269</th>\n",
       "      <td>3.222338</td>\n",
       "      <td>1.372580</td>\n",
       "      <td>-0.755628</td>\n",
       "      <td>-0.690220</td>\n",
       "    </tr>\n",
       "  </tbody>\n",
       "</table>\n",
       "<p>270 rows × 4 columns</p>\n",
       "</div>"
      ],
      "text/plain": [
       "            0         1         2         3\n",
       "0    2.671284  1.573527 -1.031522 -0.487488\n",
       "1    0.955444  3.468306 -1.830210  0.068183\n",
       "2   -0.895053 -0.612315  0.428656 -0.670931\n",
       "3    2.147007 -0.918253 -1.077068 -0.883479\n",
       "..        ...       ...       ...       ...\n",
       "266 -1.980798 -1.216195  0.675724 -0.701200\n",
       "267 -0.650099  1.860568  0.008568  1.785328\n",
       "268  0.035813 -1.142755  0.289554  0.182448\n",
       "269  3.222338  1.372580 -0.755628 -0.690220\n",
       "\n",
       "[270 rows x 4 columns]"
      ]
     },
     "execution_count": 19,
     "metadata": {},
     "output_type": "execute_result"
    }
   ],
   "source": [
    "pd.DataFrame(reduce(rescaled_X))"
   ]
  },
  {
   "cell_type": "markdown",
   "metadata": {},
   "source": [
    "## Dopasowanie modelu\n",
    "\n",
    "Naszym zadaniem w dzisiejszym laboratorium jest przeprowadzenie eksperymentu z zadaniem klasyfikacji. Polega ono na uzyskaniu przez algorytm umiejętności poprawnego etykietowania nowych, nieznanych jeszcze obiektów. Wiedza zapisywana jest w tzw. *modelu* klasyfikatora.\n",
    "\n",
    "Skorzystamy z klasyfikatora K najbliższych sąsiadów (k-NN). Jego zasada działania opiera się na nadawaniu nowemu obiektowi etykiety najczęściej pojawiającej się wśród k zapisanych w modelu obserwacji o najmniejszej względem niego odległości. Utwórzmy więc pusty model."
   ]
  },
  {
   "cell_type": "code",
   "execution_count": 20,
   "metadata": {},
   "outputs": [
    {
     "data": {
      "text/plain": [
       "KNeighborsClassifier(algorithm='auto', leaf_size=30, metric='minkowski',\n",
       "           metric_params=None, n_jobs=1, n_neighbors=5, p=2,\n",
       "           weights='uniform')"
      ]
     },
     "execution_count": 20,
     "metadata": {},
     "output_type": "execute_result"
    }
   ],
   "source": [
    "clf = neighbors.KNeighborsClassifier()\n",
    "clf"
   ]
  },
  {
   "cell_type": "markdown",
   "metadata": {},
   "source": [
    "Jak widać, standardowa liczba sąsiadów wynosi pięć, a metryką określającą odległość jest odległość Minkowskiego. Jeśli tylko znajdziesz w życiu na to chwilę, przeczytaj o różnicach pomiędzy odległością euklidesową, miejską (nazywaną także metryką Manhattan) i Minkowskiego.\n",
    "\n",
    "Model klasyfikatora należy oczywiście dopasować do zbioru danych. Zbiór użyty do dopasowania modelu nazywamy zbiorem uczącym a sam proces dopasowania – uczeniem modelu."
   ]
  },
  {
   "cell_type": "code",
   "execution_count": 21,
   "metadata": {},
   "outputs": [],
   "source": [
    "clf.fit(reduced_X, y);"
   ]
  },
  {
   "cell_type": "markdown",
   "metadata": {},
   "source": [
    "## Klasyfikacja\n",
    "\n",
    "Wyuczony klasyfikator (czyli innymi słowy dopasowany model klasyfikatora) możemy wykorzystywać już do opisywania nowych próbek (klasyfikacji). Przekażmy mu więc nasz zbiór danych do klasyfikacji. Zbiór względem którego zbieramy informacje od klasyfikatora nazywamy **zbiorem testowym**, a przypisaną etykietę **predykcją** (`Z`)."
   ]
  },
  {
   "cell_type": "code",
   "execution_count": 22,
   "metadata": {},
   "outputs": [],
   "source": [
    "Z = clf.predict(reduced_X)"
   ]
  },
  {
   "cell_type": "markdown",
   "metadata": {},
   "source": [
    "Spróbujmy wyświetlić oryginalne **etykiety** i **predykcję**."
   ]
  },
  {
   "cell_type": "code",
   "execution_count": 23,
   "metadata": {},
   "outputs": [
    {
     "data": {
      "text/html": [
       "<div>\n",
       "<style>\n",
       "    .dataframe thead tr:only-child th {\n",
       "        text-align: right;\n",
       "    }\n",
       "\n",
       "    .dataframe thead th {\n",
       "        text-align: left;\n",
       "    }\n",
       "\n",
       "    .dataframe tbody tr th {\n",
       "        vertical-align: top;\n",
       "    }\n",
       "</style>\n",
       "<table border=\"1\" class=\"dataframe\">\n",
       "  <thead>\n",
       "    <tr style=\"text-align: right;\">\n",
       "      <th></th>\n",
       "      <th>label</th>\n",
       "      <th>prediction</th>\n",
       "    </tr>\n",
       "  </thead>\n",
       "  <tbody>\n",
       "    <tr>\n",
       "      <th>0</th>\n",
       "      <td>1</td>\n",
       "      <td>1</td>\n",
       "    </tr>\n",
       "    <tr>\n",
       "      <th>1</th>\n",
       "      <td>0</td>\n",
       "      <td>0</td>\n",
       "    </tr>\n",
       "    <tr>\n",
       "      <th>2</th>\n",
       "      <td>1</td>\n",
       "      <td>0</td>\n",
       "    </tr>\n",
       "    <tr>\n",
       "      <th>3</th>\n",
       "      <td>0</td>\n",
       "      <td>1</td>\n",
       "    </tr>\n",
       "    <tr>\n",
       "      <th>...</th>\n",
       "      <td>...</td>\n",
       "      <td>...</td>\n",
       "    </tr>\n",
       "    <tr>\n",
       "      <th>266</th>\n",
       "      <td>0</td>\n",
       "      <td>0</td>\n",
       "    </tr>\n",
       "    <tr>\n",
       "      <th>267</th>\n",
       "      <td>0</td>\n",
       "      <td>0</td>\n",
       "    </tr>\n",
       "    <tr>\n",
       "      <th>268</th>\n",
       "      <td>0</td>\n",
       "      <td>0</td>\n",
       "    </tr>\n",
       "    <tr>\n",
       "      <th>269</th>\n",
       "      <td>1</td>\n",
       "      <td>1</td>\n",
       "    </tr>\n",
       "  </tbody>\n",
       "</table>\n",
       "<p>270 rows × 2 columns</p>\n",
       "</div>"
      ],
      "text/plain": [
       "     label  prediction\n",
       "0        1           1\n",
       "1        0           0\n",
       "2        1           0\n",
       "3        0           1\n",
       "..     ...         ...\n",
       "266      0           0\n",
       "267      0           0\n",
       "268      0           0\n",
       "269      1           1\n",
       "\n",
       "[270 rows x 2 columns]"
      ]
     },
     "execution_count": 23,
     "metadata": {},
     "output_type": "execute_result"
    }
   ],
   "source": [
    "pd.DataFrame({'label': y, 'prediction' : Z})"
   ]
  },
  {
   "cell_type": "markdown",
   "metadata": {},
   "source": [
    "Jak widać, nie wszystkie przewidywania algorytmu są poprawne. Musimy więc poznać jakąś metodę na ocenę jakości klasyfikacji. W wypadku klasyfikacji binarnej, najprostszymi i najczęściej używanymi miarami są **dokładność** i **precyzja**. Aby móc je wyliczyć, wypada znać cztery parametry pomiaru.\n",
    "\n",
    "- TP — true positives — liczbę poprawnie ocenionych próbek pozytywnych,\n",
    "- TN — true negatives — liczbę poprawnie ocenionych próbek negatywnych,\n",
    "- FP — false positives — liczbę tzw. fałszywych alarmów,\n",
    "- FN — false negatives — liczbę niewykrytych próbek pozytywnych.\n",
    "\n",
    "Wspólnie tworzą one tak zwaną [macierz błędów](https://pl.wikipedia.org/wiki/Tablica_pomyłek)."
   ]
  },
  {
   "cell_type": "code",
   "execution_count": 24,
   "metadata": {},
   "outputs": [
    {
     "data": {
      "text/plain": [
       "(133, 99, 17, 21, 154, 116)"
      ]
     },
     "execution_count": 24,
     "metadata": {},
     "output_type": "execute_result"
    }
   ],
   "source": [
    "confusion_matrix = metrics.confusion_matrix(y,Z)\n",
    "TP = confusion_matrix[0,0]\n",
    "TN = confusion_matrix[1,1]\n",
    "FP = confusion_matrix[0,1]\n",
    "FN = confusion_matrix[1,0]\n",
    "P = TP + FN\n",
    "N = TN + FP\n",
    "(TP, TN, FP, FN, P, N)"
   ]
  },
  {
   "cell_type": "markdown",
   "metadata": {},
   "source": [
    "Wyliczmy także miary dokładności i precyzji naszej klasyfikacji."
   ]
  },
  {
   "cell_type": "code",
   "execution_count": 25,
   "metadata": {},
   "outputs": [
    {
     "data": {
      "text/plain": [
       "(0.85925925925925928, 0.88666666666666671)"
      ]
     },
     "execution_count": 25,
     "metadata": {},
     "output_type": "execute_result"
    }
   ],
   "source": [
    "accuracy = (TP + TN) / float(P + N)\n",
    "precision = TP / float(TP + FP)\n",
    "(accuracy, precision)"
   ]
  },
  {
   "cell_type": "markdown",
   "metadata": {},
   "source": [
    "## Walidacja krzyżowa"
   ]
  },
  {
   "cell_type": "markdown",
   "metadata": {},
   "source": [
    "Wydawałoby się, że zrobiliśmy już wszystko, co potrzebne do przeprowadzenia eksperymentu. Wczytaliśmy zbiór danych, poddaliśmy go normalizacji i redukcji, zbudowaliśmy na nim model, który wykorzystaliśmy do predykcji klas. Spróbujmy więc szybko powtórzyć go, korzystając ze zdobytej wiedzy, ale dla algorytmu k-NN z jednym sąsiadem."
   ]
  },
  {
   "cell_type": "code",
   "execution_count": 26,
   "metadata": {},
   "outputs": [
    {
     "data": {
      "text/plain": [
       "(1.0, 1.0)"
      ]
     },
     "execution_count": 26,
     "metadata": {},
     "output_type": "execute_result"
    }
   ],
   "source": [
    "X, y = get_dataset('heart')                           # Wczytywanie zbioru\n",
    "X_normalized = normalize(X)                           # Normalizacja\n",
    "X_reduced = reduce(X_normalized)                      # Redukcja PCA\n",
    "clf = neighbors.KNeighborsClassifier(n_neighbors = 1) # Inicjalizacja modelu\n",
    "clf.fit(reduced_X, y)                                 # Uczenie modelu\n",
    "Z = clf.predict(reduced_X)                            # Testowanie modelu\n",
    "confusion_matrix = metrics.confusion_matrix(y,Z)      # Wyznaczenie tablicy pomyłek\n",
    "TP = confusion_matrix[0,0]\n",
    "TN = confusion_matrix[1,1]\n",
    "FP = confusion_matrix[0,1]\n",
    "FN = confusion_matrix[1,0]\n",
    "P = TP + FN\n",
    "N = TN + FP\n",
    "accuracy = (TP + TN) / float(P + N) # Wyliczenie dokładności\n",
    "precision = TP / float(TP + FP)     # Wyliczenie precyzji\n",
    "(accuracy, precision)"
   ]
  },
  {
   "cell_type": "markdown",
   "metadata": {},
   "source": [
    "Wydawałoby się, że wszystko poszło wspaniale. Dokładność i precyzja wynoszą sto procent. Niestety, nie do końca. W wypadku tego eksperymentu, zbiór uczący i testowy były tożsame, co przy algorytmie k-NN dla k=1 sprawia, że testowana próbka zawsze odnajduje w modelu samą siebie"
   ]
  },
  {
   "cell_type": "markdown",
   "metadata": {},
   "source": [
    "Wynik jest słabszy, ale cóż, przynajmniej jest prawdą."
   ]
  },
  {
   "cell_type": "code",
   "execution_count": 27,
   "metadata": {},
   "outputs": [
    {
     "data": {
      "text/plain": [
       "(0.79629629629629628, 0.081565613131649034)"
      ]
     },
     "execution_count": 27,
     "metadata": {},
     "output_type": "execute_result"
    }
   ],
   "source": [
    "scores = model_selection.cross_val_score(clf, reduced_X, y, cv=10)\n",
    "(np.mean(scores), np.std(scores))"
   ]
  },
  {
   "cell_type": "markdown",
   "metadata": {},
   "source": [
    "## Zadania\n",
    "\n",
    "W ramach zadań wykonaj trzy skrypty:\n",
    "\n",
    "- [3] Zweryfikuj czy algorytm PCA zwraca wartości znormalizowane.\n",
    "- [4] Dla trzech wybranych zbiorów porównaj wyniki osiągane przez algorytm klasyfikacji KNN dla danych czystych, znormalizowanych i zredukowanych do czterech wymiarów.\n",
    "- [5] Dla trzech wybranych zbiorów danych przedstaw wpływ liczby cech po redukcji PCA na wynik klasyfikacji. Zapisz i postaraj się uzasadnić obserwacje."
   ]
  }
 ],
 "metadata": {
  "kernelspec": {
   "display_name": "Python 2",
   "language": "python",
   "name": "python2"
  },
  "language_info": {
   "codemirror_mode": {
    "name": "ipython",
    "version": 2
   },
   "file_extension": ".py",
   "mimetype": "text/x-python",
   "name": "python",
   "nbconvert_exporter": "python",
   "pygments_lexer": "ipython2",
   "version": "2.7.13"
  }
 },
 "nbformat": 4,
 "nbformat_minor": 2
}
